{
 "cells": [
  {
   "metadata": {},
   "cell_type": "markdown",
   "source": "# Goal",
   "id": "c532f6bf58c2f28c"
  },
  {
   "metadata": {},
   "cell_type": "markdown",
   "source": "In this notebook, examples in chapter one of the reference book will be investigated. Therefor I will study functions, their inputs and outputs.",
   "id": "45fb47dc3944334c"
  },
  {
   "metadata": {},
   "cell_type": "markdown",
   "source": "# A. Required Libraries",
   "id": "ea1d37a202b4deb9"
  },
  {
   "cell_type": "code",
   "id": "initial_id",
   "metadata": {
    "collapsed": true,
    "ExecuteTime": {
     "end_time": "2025-02-21T17:52:14.885914Z",
     "start_time": "2025-02-21T17:52:11.440445Z"
    }
   },
   "source": [
    "import numpy as np\n",
    "from scipy import sparse"
   ],
   "outputs": [],
   "execution_count": 4
  },
  {
   "metadata": {},
   "cell_type": "markdown",
   "source": "## B. Examples",
   "id": "634431aba646d64"
  },
  {
   "metadata": {},
   "cell_type": "markdown",
   "source": "## B.1",
   "id": "ef0f21d2d12598e6"
  },
  {
   "metadata": {
    "ExecuteTime": {
     "end_time": "2025-02-21T17:49:56.273420Z",
     "start_time": "2025-02-21T17:49:56.264794Z"
    }
   },
   "cell_type": "code",
   "source": [
    " x = np.array([[1, 2, 3], [4, 5, 6]])\n",
    " print(\"x:\\n{}\".format(x))"
   ],
   "id": "aef1c9c79d0a42d8",
   "outputs": [
    {
     "name": "stdout",
     "output_type": "stream",
     "text": [
      "x:\n",
      "[[1 2 3]\n",
      " [4 5 6]]\n"
     ]
    }
   ],
   "execution_count": 3
  },
  {
   "metadata": {},
   "cell_type": "markdown",
   "source": "## B.2",
   "id": "4ec2380b3beae170"
  },
  {
   "metadata": {},
   "cell_type": "code",
   "outputs": [],
   "execution_count": null,
   "source": [
    "# Create a 2D NumPy array with a diagonal of ones, and zeros everywhere else\n",
    " eye = np.eye(4)\n",
    " print(\"NumPy array:\\n{}\".format(eye))"
   ],
   "id": "70f22454e5852c4a"
  }
 ],
 "metadata": {
  "kernelspec": {
   "display_name": "Python 3",
   "language": "python",
   "name": "python3"
  },
  "language_info": {
   "codemirror_mode": {
    "name": "ipython",
    "version": 2
   },
   "file_extension": ".py",
   "mimetype": "text/x-python",
   "name": "python",
   "nbconvert_exporter": "python",
   "pygments_lexer": "ipython2",
   "version": "2.7.6"
  }
 },
 "nbformat": 4,
 "nbformat_minor": 5
}
