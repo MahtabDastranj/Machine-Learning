{
 "cells": [
  {
   "metadata": {},
   "cell_type": "markdown",
   "source": "# Goal",
   "id": "c532f6bf58c2f28c"
  },
  {
   "metadata": {},
   "cell_type": "markdown",
   "source": "In this notebook, examples in chapter one of the reference book will be investigated. Therefor I will study functions, their inputs and outputs.",
   "id": "45fb47dc3944334c"
  },
  {
   "metadata": {},
   "cell_type": "markdown",
   "source": "# A. Required Libraries",
   "id": "ea1d37a202b4deb9"
  },
  {
   "cell_type": "code",
   "id": "initial_id",
   "metadata": {
    "collapsed": true,
    "ExecuteTime": {
     "end_time": "2025-02-22T20:36:22.932133Z",
     "start_time": "2025-02-22T20:36:22.926069Z"
    }
   },
   "source": [
    "import numpy as np\n",
    "from scipy import sparse\n",
    "import pandas as pd\n",
    "import scipy as sp\n",
    "import sys\n",
    "import sklearn\n",
    "import mglearn\n",
    "import IPython\n",
    "import matplotlib\n",
    "import matplotlib.pyplot as plt\n",
    "from sklearn.datasets import load_iris\n",
    "from sklearn.model_selection import train_test_split\n",
    "from sklearn.neighbors import KNeighborsClassifier"
   ],
   "outputs": [],
   "execution_count": 5
  },
  {
   "metadata": {},
   "cell_type": "markdown",
   "source": "## B. Examples",
   "id": "634431aba646d64"
  },
  {
   "metadata": {},
   "cell_type": "markdown",
   "source": "Each section of this part consists of the code and the explanation afterward.",
   "id": "34a0b44a76b4b8a3"
  },
  {
   "metadata": {},
   "cell_type": "markdown",
   "source": "## B.1",
   "id": "ef0f21d2d12598e6"
  },
  {
   "metadata": {
    "ExecuteTime": {
     "end_time": "2025-02-21T17:49:56.273420Z",
     "start_time": "2025-02-21T17:49:56.264794Z"
    }
   },
   "cell_type": "code",
   "source": [
    " x = np.array([[1, 2, 3], [4, 5, 6]])\n",
    " print(\"x:\\n{}\".format(x))"
   ],
   "id": "aef1c9c79d0a42d8",
   "outputs": [
    {
     "name": "stdout",
     "output_type": "stream",
     "text": [
      "x:\n",
      "[[1 2 3]\n",
      " [4 5 6]]\n"
     ]
    }
   ],
   "execution_count": 3
  },
  {
   "metadata": {},
   "cell_type": "markdown",
   "source": [
    "`np.array`: Creates a 2D NumPy array (also known as a matrix) with two rows and three columns.\n",
    "\n",
    "`{}` → A placeholder that will be replaced by x.\n",
    "\n",
    "`.format(x)` → This replaces {} in the string with the value of x, which is the NumPy array."
   ],
   "id": "aab71e123e54308e"
  },
  {
   "metadata": {},
   "cell_type": "markdown",
   "source": "## B.2",
   "id": "4ec2380b3beae170"
  },
  {
   "metadata": {
    "ExecuteTime": {
     "end_time": "2025-02-22T20:37:20.736525Z",
     "start_time": "2025-02-22T20:37:20.728876Z"
    }
   },
   "cell_type": "code",
   "source": [
    "# Create a 2D NumPy array with a diagonal of ones, and zeros everywhere else\n",
    "eye = np.eye(4)\n",
    "print(\"NumPy array:\\n{}\".format(eye))"
   ],
   "id": "70f22454e5852c4a",
   "outputs": [
    {
     "name": "stdout",
     "output_type": "stream",
     "text": [
      "NumPy array:\n",
      "[[1. 0. 0. 0.]\n",
      " [0. 1. 0. 0.]\n",
      " [0. 0. 1. 0.]\n",
      " [0. 0. 0. 1.]]\n"
     ]
    }
   ],
   "execution_count": 9
  },
  {
   "metadata": {},
   "cell_type": "markdown",
   "source": [
    "`np.eye(N, M=None, k=0, dtype=float, order='C')` is a NumPy function that returns a 2D array of size N with 1s on the main diagonal and 0s everywhere else.\n",
    "\n",
    "`k=1`: Moves the diagonal one step above the main diagonal.\n",
    "\n",
    "`k=-1`: Moves the diagonal below the main diagonal.\n",
    "\n",
    "You can create a rectangular matrix by specifying the number of columns (`M`)"
   ],
   "id": "d13ea2b5c790e6bd"
  },
  {
   "metadata": {},
   "cell_type": "markdown",
   "source": "## B.3",
   "id": "eeabcb2814d79d59"
  },
  {
   "metadata": {
    "ExecuteTime": {
     "end_time": "2025-02-22T20:45:42.226187Z",
     "start_time": "2025-02-22T20:45:42.214630Z"
    }
   },
   "cell_type": "code",
   "source": [
    "# Convert the NumPy array to a SciPy sparse matrix in CSR format\n",
    "# Only the nonzero entries are stored\n",
    "sparse_matrix = sparse.csr_matrix(eye)\n",
    "print(\"\\nSciPy sparse CSR matrix:\\n{}\".format(sparse_matrix))"
   ],
   "id": "5157a4e0c3b5e738",
   "outputs": [
    {
     "name": "stdout",
     "output_type": "stream",
     "text": [
      "\n",
      "SciPy sparse CSR matrix:\n",
      "<Compressed Sparse Row sparse matrix of dtype 'float64'\n",
      "\twith 4 stored elements and shape (4, 4)>\n",
      "  Coords\tValues\n",
      "  (0, 0)\t1.0\n",
      "  (1, 1)\t1.0\n",
      "  (2, 2)\t1.0\n",
      "  (3, 3)\t1.0\n"
     ]
    }
   ],
   "execution_count": 10
  },
  {
   "metadata": {},
   "cell_type": "markdown",
   "source": [
    "`sparse.csr_matrix(eye)` – Creating a Sparse Matrix\n",
    "\n",
    "eye is a NumPy array (typically an identity matrix created using np.eye()).\n",
    "sparse.csr_matrix(eye) converts this dense matrix into a CSR (Compressed Sparse Row) sparse matrix.\n",
    "In CSR format, only nonzero elements are stored, reducing memory usage for sparse matrices."
   ],
   "id": "db07c7970f29b00f"
  },
  {
   "metadata": {},
   "cell_type": "markdown",
   "source": "## B.4",
   "id": "88767b5899f07a2"
  },
  {
   "metadata": {},
   "cell_type": "code",
   "outputs": [],
   "execution_count": null,
   "source": [
    " data = np.ones(4)\n",
    " row_indices = np.arange(4)\n",
    " col_indices = np.arange(4)\n",
    " eye_coo = sparse.coo_matrix((data, (row_indices, col_indices)))\n",
    " print(\"COO representation:\\n{}\".format(eye_coo))"
   ],
   "id": "ea96595e7fe2fea"
  },
  {
   "metadata": {},
   "cell_type": "markdown",
   "source": "## B.5",
   "id": "62b5a632b084653a"
  },
  {
   "metadata": {},
   "cell_type": "code",
   "outputs": [],
   "execution_count": null,
   "source": [
    " # Generate a sequence of numbers from -10 to 10 with 100 steps in between\n",
    " x = np.linspace(-10, 10, 100)\n",
    " # Create a second array using sine\n",
    " y = np.sin(x)\n",
    " # The plot function makes a line chart of one array against another\n",
    " plt.plot(x, y, marker=\"x\")"
   ],
   "id": "9af4bc10daec2ca8"
  },
  {
   "metadata": {},
   "cell_type": "markdown",
   "source": "## B.6",
   "id": "b33ad2bc64f9bd8"
  },
  {
   "metadata": {},
   "cell_type": "code",
   "outputs": [],
   "execution_count": null,
   "source": [
    "# create a simple dataset of people\n",
    " data = {'Name': [\"John\", \"Anna\", \"Peter\", \"Linda\"],\n",
    " 'Location' : [\"New York\", \"Paris\", \"Berlin\", \"London\"],\n",
    " 'Age' : [24, 13, 53, 33]\n",
    " }\n",
    " data_pandas = pd.DataFrame(data)\n",
    " # IPython.display allows \"pretty printing\" of dataframes\n",
    " # in the Jupyter notebook\n",
    " display(data_pandas)\n",
    " # Select all rows that have an age column greater than 30\n",
    " display(data_pandas[data_pandas.Age > 30])"
   ],
   "id": "d469315371baddc2"
  },
  {
   "metadata": {},
   "cell_type": "markdown",
   "source": "## B.7",
   "id": "19f6514226dde7c1"
  },
  {
   "metadata": {},
   "cell_type": "code",
   "outputs": [],
   "execution_count": null,
   "source": [
    "print(\"Python version: {}\".format(sys.version))\n",
    "print(\"pandas version: {}\".format(pd.__version__))\n",
    "print(\"matplotlib version: {}\".format(matplotlib.__version__))\n",
    "print(\"NumPy version: {}\".format(np.__version__))\n",
    "print(\"SciPy version: {}\".format(sp.__version__))\n",
    "print(\"IPython version: {}\".format(IPython.__version__))\n",
    "print(\"scikit-learn version: {}\".format(sklearn.__version__))"
   ],
   "id": "edf4c3224813b467"
  },
  {
   "metadata": {},
   "cell_type": "markdown",
   "source": "## B.8",
   "id": "9a1a62f9aae49863"
  },
  {
   "metadata": {},
   "cell_type": "code",
   "outputs": [],
   "execution_count": null,
   "source": [
    "iris_dataset = load_iris()\n",
    "print(\"Keys of iris_dataset: \\n{}\".format(iris_dataset.keys()))\n",
    "print(iris_dataset['DESCR'][:193] + \"\\n...\")\n",
    "print(\"Target names: {}\".format(iris_dataset['target_names']))\n",
    "print(\"Feature names: \\n{}\".format(iris_dataset['feature_names']))\n",
    "print(\"Type of data: {}\".format(type(iris_dataset['data'])))\n",
    "print(\"Shape of data: {}\".format(iris_dataset['data'].shape))\n",
    "print(\"First five columns of data:\\n{}\".format(iris_dataset['data'][:5]))\n",
    "print(\"Type of target: {}\".format(type(iris_dataset['target']))) \n",
    "print(\"Shape of target: {}\".format(iris_dataset['target'].shape))\n",
    "print(\"Target:\\n{}\".format(iris_dataset['target']))"
   ],
   "id": "a30dacd9ae5fbb2d"
  },
  {
   "metadata": {},
   "cell_type": "code",
   "outputs": [],
   "execution_count": null,
   "source": [
    "X_train, X_test, y_train, y_test = train_test_split(\n",
    "iris_dataset['data'], iris_dataset['target'], random_state=0)\n",
    "print(\"X_train shape: {}\".format(X_train.shape))\n",
    "print(\"y_train shape: {}\".format(y_train.shape))\n",
    "print(\"X_test shape: {}\".format(X_test.shape))\n",
    "print(\"y_test shape: {}\".format(y_test.shape))\n",
    "# create dataframe from data in X_train\n",
    "# label the columns using the strings in iris_dataset.feature_names\n",
    "iris_dataframe = pd.DataFrame(X_train, columns=iris_dataset.feature_names)\n",
    "# create a scatter matrix from the dataframe, color by y_train\n",
    "grr = pd.scatter_matrix(iris_dataframe, c=y_train, figsize=(15, 15), marker='o',\n",
    "hist_kwds={'bins': 20}, s=60, alpha=.8, cmap=mglearn.cm3)\n",
    "knn = KNeighborsClassifier(n_neighbors=1)\n",
    "knn.fit(X_train, y_train)\n",
    "KNeighborsClassifier(algorithm='auto', leaf_size=30, metric='minkowski', metric_params=None, n_jobs=1, n_neighbors=1, p=2, weights='uniform')\n",
    "X_new = np.array([[5, 2.9, 1, 0.2]])\n",
    "print(\"X_new.shape: {}\".format(X_new.shape))\n",
    "prediction = knn.predict(X_new)\n",
    "print(\"Prediction: {}\".format(prediction))\n",
    "print(\"Predicted target name: {}\".format(iris_dataset['target_names'][prediction]))\n",
    "y_pred = knn.predict(X_test)\n",
    "print(\"Test set predictions:\\n {}\".format(y_pred))\n",
    "print(\"Test set score: {:.2f}\".format(np.mean(y_pred == y_test)))\n",
    "print(\"Test set score: {:.2f}\".format(knn.score(X_test, y_test)))\n",
    "X_train, X_test, y_train, y_test = train_test_split(\n",
    "iris_dataset['data'], iris_dataset['target'], random_state=0)\n",
    "knn = KNeighborsClassifier(n_neighbors=1)\n",
    "knn.fit(X_train, y_train)\n",
    "print(\"Test set score: {:.2f}\".format(knn.score(X_test, y_test)))"
   ],
   "id": "55bebe66cc11d511"
  }
 ],
 "metadata": {
  "kernelspec": {
   "display_name": "Python 3",
   "language": "python",
   "name": "python3"
  },
  "language_info": {
   "codemirror_mode": {
    "name": "ipython",
    "version": 2
   },
   "file_extension": ".py",
   "mimetype": "text/x-python",
   "name": "python",
   "nbconvert_exporter": "python",
   "pygments_lexer": "ipython2",
   "version": "2.7.6"
  }
 },
 "nbformat": 4,
 "nbformat_minor": 5
}
